{
 "cells": [
  {
   "cell_type": "code",
   "execution_count": 1,
   "metadata": {},
   "outputs": [],
   "source": [
    "from IPython.display import clear_output\n",
    "\n",
    "\n",
    "def display_board(board):\n",
    "    clear_output()\n",
    "    print(\"   |   | \")\n",
    "    print(\" \" + board[1] + \" | \" + board[2] + \" | \" + board[3])\n",
    "    print(\"   |   | \")\n",
    "    print(\"----------\")\n",
    "    print(\"   |   | \")\n",
    "    print(\" \" + board[4] + \" | \" + board[5] + \" | \" + board[6])\n",
    "    print(\"   |   | \")\n",
    "    print(\"----------\")\n",
    "    print(\"   |   | \")\n",
    "    print(\" \" + board[7] + \" | \" + board[8] + \" | \" + board[9])\n",
    "    print(\"   |   | \")"
   ]
  },
  {
   "cell_type": "code",
   "execution_count": 2,
   "metadata": {},
   "outputs": [],
   "source": [
    "def player_input():\n",
    "    players_input = ' '\n",
    "    while players_input not in ['X', 'O']:\n",
    "        players_input = input(\"Select your mark in ['X','O']: \").upper()\n",
    "    if players_input == 'X':\n",
    "        return 'X', 'O'\n",
    "    else:\n",
    "        return 'O', 'X'"
   ]
  },
  {
   "cell_type": "code",
   "execution_count": 3,
   "metadata": {},
   "outputs": [],
   "source": [
    "def place_marker(board, marker, position):\n",
    "    if 0 < position <= 9:\n",
    "        board[position] = marker\n",
    "    else:\n",
    "        print(\"Enter the position in between 1 to 9\")"
   ]
  },
  {
   "cell_type": "code",
   "execution_count": 4,
   "metadata": {},
   "outputs": [],
   "source": [
    "def win_check(board, mark):\n",
    "    return ((board[1] == mark and board[2] == mark and board[3] == mark) or (\n",
    "            board[6] == mark and board[4] == mark and board[5] == mark) or (\n",
    "                    board[9] == mark and board[7] == mark and board[8] == mark) or (\n",
    "                    board[1] == mark and board[4] == mark and board[7] == mark) or (\n",
    "                    board[2] == mark and board[5] == mark and board[8] == mark) or (\n",
    "                    board[3] == mark and board[6] == mark and board[9] == mark) or (\n",
    "                    board[1] == mark and board[5] == mark and board[9] == mark) or (\n",
    "                    board[3] == mark and board[5] == mark and board[7] == mark))\n"
   ]
  },
  {
   "cell_type": "code",
   "execution_count": 5,
   "metadata": {},
   "outputs": [],
   "source": [
    "import random\n",
    "\n",
    "\n",
    "def choose_first():\n",
    "    if random.randint(1, 2) == 1:\n",
    "        return 'Player 1'\n",
    "    else:\n",
    "        return 'Player 2'"
   ]
  },
  {
   "cell_type": "code",
   "execution_count": 6,
   "metadata": {},
   "outputs": [],
   "source": [
    "# if any value assigned in the particular position it'll return False\n",
    "def space_check(board, position):\n",
    "    if 0 < position <= 9:\n",
    "        return board[position] == ' '"
   ]
  },
  {
   "cell_type": "code",
   "execution_count": 7,
   "metadata": {},
   "outputs": [],
   "source": [
    "# if board is empty it'll return FALSE\n",
    "def full_board_check(board):\n",
    "    count = 0\n",
    "    for i in range(1, 10):\n",
    "        if board[i] != ' ':\n",
    "            count += 1\n",
    "    if count == 9:\n",
    "        return True\n",
    "    else:\n",
    "        return False"
   ]
  },
  {
   "cell_type": "code",
   "execution_count": 8,
   "metadata": {},
   "outputs": [],
   "source": [
    "def player_choice(board):\n",
    "    next_position = int(input(\"Enter the Position you would like to Hold: \"))\n",
    "    valid = False\n",
    "    while not valid:\n",
    "        if next_position in range (1,10):\n",
    "            if board[next_position] != \" \":\n",
    "                print(\"The Position you entered is already Filled..! Try with another Num\")\n",
    "                next_position = int(input(\"Enter the Position you would like to Hold: \"))\n",
    "                valid = False\n",
    "            else:\n",
    "                valid = True\n",
    "        else:\n",
    "            print(\"Please Enter in the range 1 to 9\")\n",
    "            next_position = int(input(\"Enter the Position you would like to Hold: \"))\n",
    "    if space_check(board, next_position):\n",
    "        return next_position"
   ]
  },
  {
   "cell_type": "code",
   "execution_count": 12,
   "metadata": {},
   "outputs": [],
   "source": [
    "def replay():\n",
    "    resp = input(\"Do you want to play again? Enter Yes or No: \").lower()\n",
    "    if resp == 'yes':\n",
    "        return True\n",
    "    else:\n",
    "        return False"
   ]
  },
  {
   "cell_type": "code",
   "execution_count": 10,
   "metadata": {},
   "outputs": [],
   "source": [
    "def assign_marks():\n",
    "    pl = choose_first()\n",
    "    player1_mark, player2_mark = (' ', ' ')\n",
    "    if pl == 'Player 1':\n",
    "        player1_mark, player2_mark = player_input()\n",
    "    elif pl == 'Player 2':\n",
    "        player2_mark, player1_mark = player_input()\n",
    "    return pl, player1_mark, player2_mark"
   ]
  },
  {
   "cell_type": "code",
   "execution_count": 13,
   "metadata": {},
   "outputs": [
    {
     "name": "stdout",
     "output_type": "stream",
     "text": [
      "   |   | \n",
      " O | O | X\n",
      "   |   | \n",
      "----------\n",
      "   |   | \n",
      "   |   | O\n",
      "   |   | \n",
      "----------\n",
      "   |   | \n",
      "   | X | X\n",
      "   |   | \n",
      "Enter the Position you would like to Hold: 7\n",
      "Congratulations..! Player 2 won the Game\n",
      "Do you want to play again? Enter Yes or No: no\n"
     ]
    }
   ],
   "source": [
    "game_start = True\n",
    "\n",
    "while game_start:\n",
    "\n",
    "    print(\"Welcome to TIC TAC TOE\")\n",
    "\n",
    "    theBoard = [' '] * 10\n",
    "    player_playing_first, player1_mark, player2_mark = assign_marks()\n",
    "    print(\"{} is playing first\".format(player_playing_first))\n",
    "\n",
    "    ready_to_play = input(\"Are you ready to Play..?: Yes or No: \").lower()\n",
    "    if ready_to_play == \"yes\":\n",
    "        game_on = True\n",
    "    elif ready_to_play == 'no':\n",
    "        game_on = False\n",
    "\n",
    "    while game_on:\n",
    "        if player_playing_first == \"Player 1\":\n",
    "            display_board(theBoard)\n",
    "            player_selected_position = player_choice(theBoard)\n",
    "            place_marker(theBoard, player1_mark, player_selected_position)\n",
    "            if win_check(theBoard, player1_mark):\n",
    "                print(\"Congratulations..! {} won the Game\".format(player_playing_first))\n",
    "                game_start=False\n",
    "                break\n",
    "            elif full_board_check(theBoard):\n",
    "                print(\"The game has been drawn\")\n",
    "                game_start = False\n",
    "                break\n",
    "            player_playing_first = \"Player 2\"\n",
    "\n",
    "        elif player_playing_first == \"Player 2\":\n",
    "            display_board(theBoard)\n",
    "            player_selected_position = player_choice(theBoard)\n",
    "            place_marker(theBoard, player2_mark, player_selected_position)\n",
    "            if win_check(theBoard, player2_mark):\n",
    "                print(\"Congratulations..! {} won the Game\".format(player_playing_first))\n",
    "                game_start = False\n",
    "                break\n",
    "            elif full_board_check(theBoard):\n",
    "                print(\"The game has been drawn\")\n",
    "                game_start =False\n",
    "                break\n",
    "            player_playing_first = \"Player 1\"\n",
    "\n",
    "    if replay():\n",
    "        game_start = True\n",
    "    else:\n",
    "        game_start = False"
   ]
  },
  {
   "cell_type": "code",
   "execution_count": null,
   "metadata": {},
   "outputs": [],
   "source": []
  }
 ],
 "metadata": {
  "kernelspec": {
   "display_name": "Python 3",
   "language": "python",
   "name": "python3"
  },
  "language_info": {
   "codemirror_mode": {
    "name": "ipython",
    "version": 3
   },
   "file_extension": ".py",
   "mimetype": "text/x-python",
   "name": "python",
   "nbconvert_exporter": "python",
   "pygments_lexer": "ipython3",
   "version": "3.8.5"
  }
 },
 "nbformat": 4,
 "nbformat_minor": 4
}
